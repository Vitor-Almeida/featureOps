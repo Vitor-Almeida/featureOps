{
 "cells": [
  {
   "cell_type": "code",
   "execution_count": 1,
   "metadata": {},
   "outputs": [],
   "source": [
    "import pandas as pd\n",
    "import xgboost as xgb\n",
    "import os\n",
    "\n",
    "import dtale\n",
    "\n",
    "import scipy.stats as stats\n",
    "\n",
    "import numpy as np\n",
    "\n",
    "import psycopg2\n",
    "\n",
    "####### read files: #########\n",
    "def readDF(fileDir):\n",
    "    featureDF = pd.read_csv(fileDir)\n",
    "    return featureDF\n",
    "\n",
    "### descrição do problema:\n",
    "\n",
    "### Ja ta com as features\n",
    "### Ja ta tudo na mesma tabela\n",
    "### Problema de classificacao\n",
    "\n",
    "###\n",
    "\n",
    "filePathData = os.path.join(os.getcwd(),\"data\")\n",
    "filePathSQL = os.path.join(os.getcwd(),\"data\",\"tmp\")\n",
    "\n",
    "fileDir = os.path.join(filePathData, \"tabular-playground-series-may-2022\", \"train.csv\")\n",
    "\n",
    "featureDF = readDF(fileDir)\n",
    "idxName = ['id']\n",
    "\n",
    "featureDF.set_index(idxName[0],inplace=True,drop=False)\n",
    "\n",
    "pandasSQLTypes={\"int64\":\"bigint\",\"object\":\"varchar(100)\",\"float64\":\"double precision\"}\n",
    "\n",
    "#catFList = ['f_27']\n",
    "catFList = ['f_27',\"f_07\",\"f_08\",\"f_09\",\"f_10\",\"f_11\",\"f_12\"]\n",
    "#discFList = [\"f_07\",\"f_08\",\"f_09\",\"f_10\",\"f_11\",\"f_12\",\"f_13\",\"f_14\",\"f_15\",\"f_16\",\"f_17\",\"f_18\",\"f_29\",\"f_30\"]\n",
    "discFList = [\"f_13\",\"f_14\",\"f_15\",\"f_16\",\"f_17\",\"f_18\",\"f_29\",\"f_30\"]\n",
    "tgtFList = [\"target\"]\n",
    "numFList = list(set(featureDF.columns) - set(tgtFList) - set(discFList) - set(catFList))\n",
    "numFList.sort()\n",
    "\n",
    "numDF = featureDF\n",
    "numDF = numDF.sample(n=50000)\n",
    "\n",
    "numDFMelt = pd.melt(numDF, id_vars = idxName + catFList, value_vars=numFList+discFList,value_name='numFeatures')\n",
    "\n",
    "dim_fDF = pd.DataFrame(list(featureDF.columns),columns=[\"variable\"])\n",
    "dim_fDF.drop_duplicates(inplace=True)\n",
    "dim_idDF = pd.DataFrame(list(featureDF.index),columns=idxName)\n",
    "dim_idDF.drop_duplicates(inplace=True)"
   ]
  },
  {
   "cell_type": "code",
   "execution_count": 2,
   "metadata": {},
   "outputs": [
    {
     "data": {
      "text/html": [
       "<div>\n",
       "<style scoped>\n",
       "    .dataframe tbody tr th:only-of-type {\n",
       "        vertical-align: middle;\n",
       "    }\n",
       "\n",
       "    .dataframe tbody tr th {\n",
       "        vertical-align: top;\n",
       "    }\n",
       "\n",
       "    .dataframe thead th {\n",
       "        text-align: right;\n",
       "    }\n",
       "</style>\n",
       "<table border=\"1\" class=\"dataframe\">\n",
       "  <thead>\n",
       "    <tr style=\"text-align: right;\">\n",
       "      <th></th>\n",
       "      <th>id</th>\n",
       "      <th>f_27</th>\n",
       "      <th>f_07</th>\n",
       "      <th>f_08</th>\n",
       "      <th>f_09</th>\n",
       "      <th>f_10</th>\n",
       "      <th>f_11</th>\n",
       "      <th>f_12</th>\n",
       "      <th>variable</th>\n",
       "      <th>numFeatures</th>\n",
       "    </tr>\n",
       "  </thead>\n",
       "  <tbody>\n",
       "    <tr>\n",
       "      <th>0</th>\n",
       "      <td>454224</td>\n",
       "      <td>BFBAAABRCA</td>\n",
       "      <td>5</td>\n",
       "      <td>3</td>\n",
       "      <td>2</td>\n",
       "      <td>0</td>\n",
       "      <td>0</td>\n",
       "      <td>2</td>\n",
       "      <td>f_00</td>\n",
       "      <td>-0.825318</td>\n",
       "    </tr>\n",
       "    <tr>\n",
       "      <th>1</th>\n",
       "      <td>270530</td>\n",
       "      <td>AFBCCABDFB</td>\n",
       "      <td>0</td>\n",
       "      <td>0</td>\n",
       "      <td>4</td>\n",
       "      <td>3</td>\n",
       "      <td>1</td>\n",
       "      <td>3</td>\n",
       "      <td>f_00</td>\n",
       "      <td>-0.463939</td>\n",
       "    </tr>\n",
       "    <tr>\n",
       "      <th>2</th>\n",
       "      <td>166019</td>\n",
       "      <td>ACBBCABSCD</td>\n",
       "      <td>3</td>\n",
       "      <td>3</td>\n",
       "      <td>2</td>\n",
       "      <td>2</td>\n",
       "      <td>2</td>\n",
       "      <td>0</td>\n",
       "      <td>f_00</td>\n",
       "      <td>-0.861289</td>\n",
       "    </tr>\n",
       "    <tr>\n",
       "      <th>3</th>\n",
       "      <td>161152</td>\n",
       "      <td>AEBBCBCDED</td>\n",
       "      <td>0</td>\n",
       "      <td>0</td>\n",
       "      <td>3</td>\n",
       "      <td>4</td>\n",
       "      <td>4</td>\n",
       "      <td>3</td>\n",
       "      <td>f_00</td>\n",
       "      <td>0.660846</td>\n",
       "    </tr>\n",
       "    <tr>\n",
       "      <th>4</th>\n",
       "      <td>232649</td>\n",
       "      <td>ABBBCAGFAE</td>\n",
       "      <td>1</td>\n",
       "      <td>0</td>\n",
       "      <td>2</td>\n",
       "      <td>3</td>\n",
       "      <td>3</td>\n",
       "      <td>5</td>\n",
       "      <td>f_00</td>\n",
       "      <td>0.694640</td>\n",
       "    </tr>\n",
       "  </tbody>\n",
       "</table>\n",
       "</div>"
      ],
      "text/plain": [
       "       id        f_27  f_07  f_08  f_09  f_10  f_11  f_12 variable  \\\n",
       "0  454224  BFBAAABRCA     5     3     2     0     0     2     f_00   \n",
       "1  270530  AFBCCABDFB     0     0     4     3     1     3     f_00   \n",
       "2  166019  ACBBCABSCD     3     3     2     2     2     0     f_00   \n",
       "3  161152  AEBBCBCDED     0     0     3     4     4     3     f_00   \n",
       "4  232649  ABBBCAGFAE     1     0     2     3     3     5     f_00   \n",
       "\n",
       "   numFeatures  \n",
       "0    -0.825318  \n",
       "1    -0.463939  \n",
       "2    -0.861289  \n",
       "3     0.660846  \n",
       "4     0.694640  "
      ]
     },
     "execution_count": 2,
     "metadata": {},
     "output_type": "execute_result"
    }
   ],
   "source": [
    "numDFMelt.head(5)"
   ]
  },
  {
   "cell_type": "code",
   "execution_count": 3,
   "metadata": {},
   "outputs": [],
   "source": [
    "colunas = list(numDFMelt['variable'].drop_duplicates())\n",
    "\n",
    "dfList = []\n",
    "binListNp = []\n",
    "binListTmp = []\n",
    "binList = []\n",
    "for col in colunas:\n",
    "\n",
    "    numDFMelt_1 = (numDFMelt[numDFMelt['variable'] == col]).copy()\n",
    "    #bins = pd.cut(numDFMelt_1['numFeatures'], 3)\n",
    "\n",
    "    binQuant = int(round((len(numDFMelt_1))**(1/2),0))\n",
    "\n",
    "    binList = pd.cut(numDFMelt_1['numFeatures'], binQuant)\n",
    "\n",
    "    #nao funciona para as slices?\n",
    "\n",
    "    numDFMelt_1['ranking'] = (numDFMelt_1['numFeatures'].rank(axis=0,method='max',ascending=True)-0.05) / len(numDFMelt_1)\n",
    "    numDFMelt_1['qqplot'] = stats.norm.ppf(numDFMelt_1['ranking'])\n",
    "\n",
    "    for rows in binList:\n",
    "        binListTmp.append([col,rows.left])\n",
    "\n",
    "    binListNp = np.array(binListTmp)\n",
    "    binListNp = np.append(binListNp, np.array([numDFMelt_1['id'].to_numpy()]).T, axis=1)\n",
    "    binListNp = np.append(binListNp, np.array([numDFMelt_1['qqplot'].to_numpy()]).T, axis=1)\n",
    "\n",
    "    dfList.append(pd.DataFrame(binListNp,columns=['variable','bin','id','qqplot']))\n",
    "\n",
    "    binListTmp = []\n",
    "    binListNp = []\n",
    "\n",
    "binDf = pd.concat(dfList)\n",
    "binDf['qqplot'] = binDf['qqplot'].astype('float64')\n",
    "binDf['bin'] = binDf['bin'].astype('float64')\n",
    "binDf['id'] = binDf['id'].astype('int64')\n",
    "\n",
    "##slow\n",
    "numDFMelt = numDFMelt.merge(binDf, how='left',on=[\"id\",\"variable\"])"
   ]
  },
  {
   "cell_type": "code",
   "execution_count": 4,
   "metadata": {},
   "outputs": [
    {
     "name": "stdout",
     "output_type": "stream",
     "text": [
      "http://deskCasa:40000\n"
     ]
    }
   ],
   "source": [
    "numDFx = numDF.drop(columns=['id'])\n",
    "d = dtale.show(numDFx)\n",
    "print(d._url)\n",
    "d.open_browser()"
   ]
  },
  {
   "cell_type": "code",
   "execution_count": 5,
   "metadata": {},
   "outputs": [
    {
     "name": "stdout",
     "output_type": "stream",
     "text": [
      "CREATE TABLE IF NOT EXISTS correlTable (variable1 varchar(100), variable2 varchar(100), correl double precision)\n",
      "COPY correlTable FROM 'd:\\Projetos\\competicoes\\featureOps\\data\\tmp\\correlTable.csv' DELIMITER ',' CSV; \n",
      "CREATE TABLE IF NOT EXISTS Numeric (id bigint, f_00 double precision, f_01 double precision, f_02 double precision, f_03 double precision, f_04 double precision, f_05 double precision, f_06 double precision, f_07 bigint, f_08 bigint, f_09 bigint, f_10 bigint, f_11 bigint, f_12 bigint, f_13 bigint, f_14 bigint, f_15 bigint, f_16 bigint, f_17 bigint, f_18 bigint, f_19 double precision, f_20 double precision, f_21 double precision, f_22 double precision, f_23 double precision, f_24 double precision, f_25 double precision, f_26 double precision, f_27 varchar(100), f_28 double precision, f_29 bigint, f_30 bigint, target bigint)\n",
      "COPY Numeric FROM 'd:\\Projetos\\competicoes\\featureOps\\data\\tmp\\Numeric.csv' DELIMITER ',' CSV; \n",
      "CREATE TABLE IF NOT EXISTS meltedNumeric (id bigint, f_27 varchar(100), f_07 bigint, f_08 bigint, f_09 bigint, f_10 bigint, f_11 bigint, f_12 bigint, variable varchar(100), numFeatures double precision, bin double precision, qqplot double precision)\n",
      "COPY meltedNumeric FROM 'd:\\Projetos\\competicoes\\featureOps\\data\\tmp\\meltedNumeric.csv' DELIMITER ',' CSV; \n",
      "CREATE TABLE IF NOT EXISTS dim_Features ( variable varchar(100))\n",
      "COPY dim_Features FROM 'd:\\Projetos\\competicoes\\featureOps\\data\\tmp\\dim_Features.csv' DELIMITER ',' CSV; \n",
      "CREATE TABLE IF NOT EXISTS dim_id ( id bigint)\n",
      "COPY dim_id FROM 'd:\\Projetos\\competicoes\\featureOps\\data\\tmp\\dim_id.csv' DELIMITER ',' CSV; \n"
     ]
    },
    {
     "data": {
      "text/plain": [
       "1"
      ]
     },
     "execution_count": 5,
     "metadata": {},
     "output_type": "execute_result"
    },
    {
     "name": "stdout",
     "output_type": "stream",
     "text": [
      "Exception occurred while processing request: 'NoneType' object has no attribute 'columns'\n",
      "Traceback (most recent call last):\n",
      "  File \"c:\\Users\\almei\\.conda\\envs\\tabularKaggle\\lib\\site-packages\\dtale\\views.py\", line 120, in _handle_exceptions\n",
      "    return func(*args, **kwargs)\n",
      "  File \"c:\\Users\\almei\\.conda\\envs\\tabularKaggle\\lib\\site-packages\\dtale\\views.py\", line 2707, in get_column_analysis\n",
      "    analysis = ColumnAnalysis(data_id, request)\n",
      "  File \"c:\\Users\\almei\\.conda\\envs\\tabularKaggle\\lib\\site-packages\\dtale\\column_analysis.py\", line 87, in __init__\n",
      "    self.selected_col = find_selected_column(\n",
      "  File \"c:\\Users\\almei\\.conda\\envs\\tabularKaggle\\lib\\site-packages\\dtale\\utils.py\", line 664, in find_selected_column\n",
      "    return col if col in data.columns else data.columns[-1]\n",
      "AttributeError: 'NoneType' object has no attribute 'columns'\n"
     ]
    },
    {
     "name": "stderr",
     "output_type": "stream",
     "text": [
      "2022-06-20 10:27:13,562 - ERROR    - Exception occurred while processing request: 'NoneType' object has no attribute 'columns'\n",
      "Traceback (most recent call last):\n",
      "  File \"c:\\Users\\almei\\.conda\\envs\\tabularKaggle\\lib\\site-packages\\dtale\\views.py\", line 120, in _handle_exceptions\n",
      "    return func(*args, **kwargs)\n",
      "  File \"c:\\Users\\almei\\.conda\\envs\\tabularKaggle\\lib\\site-packages\\dtale\\views.py\", line 2707, in get_column_analysis\n",
      "    analysis = ColumnAnalysis(data_id, request)\n",
      "  File \"c:\\Users\\almei\\.conda\\envs\\tabularKaggle\\lib\\site-packages\\dtale\\column_analysis.py\", line 87, in __init__\n",
      "    self.selected_col = find_selected_column(\n",
      "  File \"c:\\Users\\almei\\.conda\\envs\\tabularKaggle\\lib\\site-packages\\dtale\\utils.py\", line 664, in find_selected_column\n",
      "    return col if col in data.columns else data.columns[-1]\n",
      "AttributeError: 'NoneType' object has no attribute 'columns'\n"
     ]
    },
    {
     "name": "stdout",
     "output_type": "stream",
     "text": [
      "Exception occurred while processing request: 'NoneType' object has no attribute 'columns'\n",
      "Traceback (most recent call last):\n",
      "  File \"c:\\Users\\almei\\.conda\\envs\\tabularKaggle\\lib\\site-packages\\dtale\\views.py\", line 120, in _handle_exceptions\n",
      "    return func(*args, **kwargs)\n",
      "  File \"c:\\Users\\almei\\.conda\\envs\\tabularKaggle\\lib\\site-packages\\dtale\\views.py\", line 2707, in get_column_analysis\n",
      "    analysis = ColumnAnalysis(data_id, request)\n",
      "  File \"c:\\Users\\almei\\.conda\\envs\\tabularKaggle\\lib\\site-packages\\dtale\\column_analysis.py\", line 87, in __init__\n",
      "    self.selected_col = find_selected_column(\n",
      "  File \"c:\\Users\\almei\\.conda\\envs\\tabularKaggle\\lib\\site-packages\\dtale\\utils.py\", line 664, in find_selected_column\n",
      "    return col if col in data.columns else data.columns[-1]\n",
      "AttributeError: 'NoneType' object has no attribute 'columns'\n"
     ]
    },
    {
     "name": "stderr",
     "output_type": "stream",
     "text": [
      "2022-06-20 10:27:17,305 - ERROR    - Exception occurred while processing request: 'NoneType' object has no attribute 'columns'\n",
      "Traceback (most recent call last):\n",
      "  File \"c:\\Users\\almei\\.conda\\envs\\tabularKaggle\\lib\\site-packages\\dtale\\views.py\", line 120, in _handle_exceptions\n",
      "    return func(*args, **kwargs)\n",
      "  File \"c:\\Users\\almei\\.conda\\envs\\tabularKaggle\\lib\\site-packages\\dtale\\views.py\", line 2707, in get_column_analysis\n",
      "    analysis = ColumnAnalysis(data_id, request)\n",
      "  File \"c:\\Users\\almei\\.conda\\envs\\tabularKaggle\\lib\\site-packages\\dtale\\column_analysis.py\", line 87, in __init__\n",
      "    self.selected_col = find_selected_column(\n",
      "  File \"c:\\Users\\almei\\.conda\\envs\\tabularKaggle\\lib\\site-packages\\dtale\\utils.py\", line 664, in find_selected_column\n",
      "    return col if col in data.columns else data.columns[-1]\n",
      "AttributeError: 'NoneType' object has no attribute 'columns'\n"
     ]
    },
    {
     "name": "stdout",
     "output_type": "stream",
     "text": [
      "Exception occurred while processing request: 'NoneType' object is not subscriptable\n",
      "Traceback (most recent call last):\n",
      "  File \"c:\\Users\\almei\\.conda\\envs\\tabularKaggle\\lib\\site-packages\\dtale\\views.py\", line 120, in _handle_exceptions\n",
      "    return func(*args, **kwargs)\n",
      "  File \"c:\\Users\\almei\\.conda\\envs\\tabularKaggle\\lib\\site-packages\\dtale\\views.py\", line 2021, in describe\n",
      "    data = data[[column]]\n",
      "TypeError: 'NoneType' object is not subscriptable\n"
     ]
    },
    {
     "name": "stderr",
     "output_type": "stream",
     "text": [
      "2022-06-20 10:27:17,305 - ERROR    - Exception occurred while processing request: 'NoneType' object is not subscriptable\n",
      "Traceback (most recent call last):\n",
      "  File \"c:\\Users\\almei\\.conda\\envs\\tabularKaggle\\lib\\site-packages\\dtale\\views.py\", line 120, in _handle_exceptions\n",
      "    return func(*args, **kwargs)\n",
      "  File \"c:\\Users\\almei\\.conda\\envs\\tabularKaggle\\lib\\site-packages\\dtale\\views.py\", line 2021, in describe\n",
      "    data = data[[column]]\n",
      "TypeError: 'NoneType' object is not subscriptable\n"
     ]
    },
    {
     "name": "stdout",
     "output_type": "stream",
     "text": [
      "Exception occurred while processing request: 'NoneType' object is not subscriptable\n",
      "Traceback (most recent call last):\n",
      "  File \"c:\\Users\\almei\\.conda\\envs\\tabularKaggle\\lib\\site-packages\\dtale\\views.py\", line 120, in _handle_exceptions\n",
      "    return func(*args, **kwargs)\n",
      "  File \"c:\\Users\\almei\\.conda\\envs\\tabularKaggle\\lib\\site-packages\\dtale\\views.py\", line 2021, in describe\n",
      "    data = data[[column]]\n",
      "TypeError: 'NoneType' object is not subscriptable\n"
     ]
    },
    {
     "name": "stderr",
     "output_type": "stream",
     "text": [
      "2022-06-20 10:27:18,019 - ERROR    - Exception occurred while processing request: 'NoneType' object is not subscriptable\n",
      "Traceback (most recent call last):\n",
      "  File \"c:\\Users\\almei\\.conda\\envs\\tabularKaggle\\lib\\site-packages\\dtale\\views.py\", line 120, in _handle_exceptions\n",
      "    return func(*args, **kwargs)\n",
      "  File \"c:\\Users\\almei\\.conda\\envs\\tabularKaggle\\lib\\site-packages\\dtale\\views.py\", line 2021, in describe\n",
      "    data = data[[column]]\n",
      "TypeError: 'NoneType' object is not subscriptable\n"
     ]
    },
    {
     "name": "stdout",
     "output_type": "stream",
     "text": [
      "Executing shutdown due to inactivity...\n"
     ]
    },
    {
     "name": "stderr",
     "output_type": "stream",
     "text": [
      "2022-06-20 11:27:18,028 - INFO     - Executing shutdown due to inactivity...\n"
     ]
    },
    {
     "name": "stdout",
     "output_type": "stream",
     "text": [
      "Executing shutdown...\n"
     ]
    },
    {
     "name": "stderr",
     "output_type": "stream",
     "text": [
      "2022-06-20 11:27:26,231 - INFO     - Executing shutdown...\n"
     ]
    },
    {
     "name": "stdout",
     "output_type": "stream",
     "text": [
      "Exception on /shutdown [GET]\n",
      "Traceback (most recent call last):\n",
      "  File \"c:\\Users\\almei\\.conda\\envs\\tabularKaggle\\lib\\site-packages\\flask\\app.py\", line 2077, in wsgi_app\n",
      "    response = self.full_dispatch_request()\n",
      "  File \"c:\\Users\\almei\\.conda\\envs\\tabularKaggle\\lib\\site-packages\\flask\\app.py\", line 1525, in full_dispatch_request\n",
      "    rv = self.handle_user_exception(e)\n",
      "  File \"c:\\Users\\almei\\.conda\\envs\\tabularKaggle\\lib\\site-packages\\flask\\app.py\", line 1523, in full_dispatch_request\n",
      "    rv = self.dispatch_request()\n",
      "  File \"c:\\Users\\almei\\.conda\\envs\\tabularKaggle\\lib\\site-packages\\flask\\app.py\", line 1509, in dispatch_request\n",
      "    return self.ensure_sync(self.view_functions[rule.endpoint])(**req.view_args)\n",
      "  File \"c:\\Users\\almei\\.conda\\envs\\tabularKaggle\\lib\\site-packages\\dtale\\app.py\", line 410, in shutdown\n",
      "    shutdown_server()\n",
      "  File \"c:\\Users\\almei\\.conda\\envs\\tabularKaggle\\lib\\site-packages\\dtale\\app.py\", line 396, in shutdown_server\n",
      "    raise RuntimeError(\"Not running with the Werkzeug Server\")\n",
      "RuntimeError: Not running with the Werkzeug Server\n"
     ]
    },
    {
     "name": "stderr",
     "output_type": "stream",
     "text": [
      "2022-06-20 11:27:26,233 - ERROR    - Exception on /shutdown [GET]\n",
      "Traceback (most recent call last):\n",
      "  File \"c:\\Users\\almei\\.conda\\envs\\tabularKaggle\\lib\\site-packages\\flask\\app.py\", line 2077, in wsgi_app\n",
      "    response = self.full_dispatch_request()\n",
      "  File \"c:\\Users\\almei\\.conda\\envs\\tabularKaggle\\lib\\site-packages\\flask\\app.py\", line 1525, in full_dispatch_request\n",
      "    rv = self.handle_user_exception(e)\n",
      "  File \"c:\\Users\\almei\\.conda\\envs\\tabularKaggle\\lib\\site-packages\\flask\\app.py\", line 1523, in full_dispatch_request\n",
      "    rv = self.dispatch_request()\n",
      "  File \"c:\\Users\\almei\\.conda\\envs\\tabularKaggle\\lib\\site-packages\\flask\\app.py\", line 1509, in dispatch_request\n",
      "    return self.ensure_sync(self.view_functions[rule.endpoint])(**req.view_args)\n",
      "  File \"c:\\Users\\almei\\.conda\\envs\\tabularKaggle\\lib\\site-packages\\dtale\\app.py\", line 410, in shutdown\n",
      "    shutdown_server()\n",
      "  File \"c:\\Users\\almei\\.conda\\envs\\tabularKaggle\\lib\\site-packages\\dtale\\app.py\", line 396, in shutdown_server\n",
      "    raise RuntimeError(\"Not running with the Werkzeug Server\")\n",
      "RuntimeError: Not running with the Werkzeug Server\n"
     ]
    }
   ],
   "source": [
    "def createCorrelDFrame(df):\n",
    "\n",
    "    correl = df.corr()\n",
    "    correl = pd.melt(correl, value_vars=numFList+discFList+tgtFList,value_name='correl', ignore_index=False)\n",
    "    correl.reset_index(inplace=True)\n",
    "    correl = correl.rename(columns={'index':'variable1','variable':'variable2'})\n",
    "    \n",
    "    return correl\n",
    "\n",
    "def createColumnStr(df,typeMap=pandasSQLTypes):\n",
    "\n",
    "    dfcolumns = df.columns\n",
    "    dfTypes = df.dtypes\n",
    "\n",
    "    strList = \"\"\n",
    "\n",
    "    for idx in range(0,len(dfcolumns)):\n",
    "\n",
    "        if idx == len(dfcolumns)-1 and idx == 0:\n",
    "            strList = \"(\" + strList + \" \" + str(dfcolumns[idx]) + \" \" + typeMap[str(dfTypes[idx])] + \")\"\n",
    "        elif idx == len(dfcolumns)-1:\n",
    "            strList = strList + \" \" + str(dfcolumns[idx]) + \" \" + typeMap[str(dfTypes[idx])] + \")\"\n",
    "        elif idx == 0:\n",
    "            strList = \"(\" + str(dfcolumns[idx]) + \" \" + typeMap[str(dfTypes[idx])] + \",\"\n",
    "        else:\n",
    "            strList = strList + \" \" + str(dfcolumns[idx]) + \" \" + typeMap[str(dfTypes[idx])] + \",\"\n",
    "\n",
    "    return strList\n",
    "\n",
    "############\n",
    "def copyDataToSQL(df,tablename,path = filePathSQL):\n",
    "\n",
    "    pg_conn  = psycopg2.connect(database=\"postgres\", user='postgres', password='', host='127.0.0.1', port='5432')\n",
    "    cur = pg_conn.cursor()\n",
    "\n",
    "    filePath = os.path.join(path,tablename + \".csv\")\n",
    "\n",
    "    df.to_csv(filePath,index=False, header=False)\n",
    "\n",
    "    strList = createColumnStr(df)\n",
    "\n",
    "    sqlCreate = '''CREATE TABLE IF NOT EXISTS ''' + tablename + ''' ''' + strList\n",
    "    print(sqlCreate)\n",
    "\n",
    "    sqlCopy = '''COPY ''' + tablename + ''' FROM ''' + \"'\"+filePath+\"'\" + ''' DELIMITER ',' CSV; '''\n",
    "    print(sqlCopy)\n",
    "\n",
    "    ### criando tabela de apoio para o direct query do BI\n",
    "    cur.execute(\"CREATE TABLE IF NOT EXISTS _measures (_measures int); TRUNCATE TABLE _measures; INSERT INTO _measures (_measures) VALUES (1);\")\n",
    "    ### tem q criar a tabela de data\n",
    "\n",
    "    cur.execute(sqlCreate)\n",
    "    cur.execute('TRUNCATE TABLE ' + tablename)\n",
    "    cur.execute(sqlCopy)\n",
    "    pg_conn.commit()\n",
    "    cur.close()\n",
    "\n",
    "    #sql_delete = '''DROP TABLE IF EXISTS copy_test;'''\n",
    "\n",
    "    os.remove(os.path.join(path,tablename + \".csv\"))\n",
    "\n",
    "    return 1\n",
    "\n",
    "\n",
    "copyDataToSQL(createCorrelDFrame(numDF[numFList+tgtFList+discFList]),\"correlTable\")\n",
    "copyDataToSQL(numDF,\"Numeric\")\n",
    "copyDataToSQL(numDFMelt,\"meltedNumeric\")\n",
    "copyDataToSQL(dim_fDF,\"dim_Features\")\n",
    "copyDataToSQL(dim_idDF,\"dim_id\")"
   ]
  }
 ],
 "metadata": {
  "kernelspec": {
   "display_name": "Python 3.9.7 ('tabularKaggle')",
   "language": "python",
   "name": "python3"
  },
  "language_info": {
   "codemirror_mode": {
    "name": "ipython",
    "version": 3
   },
   "file_extension": ".py",
   "mimetype": "text/x-python",
   "name": "python",
   "nbconvert_exporter": "python",
   "pygments_lexer": "ipython3",
   "version": "3.9.7"
  },
  "orig_nbformat": 4,
  "vscode": {
   "interpreter": {
    "hash": "0be717e0152680a12997de4697a4760ae028ad6b9681ef9e1ae20e2c41e2e849"
   }
  }
 },
 "nbformat": 4,
 "nbformat_minor": 2
}
