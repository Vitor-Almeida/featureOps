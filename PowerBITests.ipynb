{
 "cells": [
  {
   "cell_type": "code",
   "execution_count": 1,
   "metadata": {},
   "outputs": [],
   "source": [
    "# O bi sempre executa isso aqui antes de começar:\n",
    "# dataset = pandas.DataFrame(field1,field2,field3,...,fieldN)\n",
    "# dataset = dataset.drop_duplicates()\n",
    "\n",
    "from pandas import read_csv,DataFrame,melt\n",
    "from scipy import stats\n",
    "import numpy as np\n",
    "import seaborn as sns\n",
    "from matplotlib.pyplot import tight_layout,subplots,show\n",
    "from sklearn.preprocessing import StandardScaler,MaxAbsScaler,PowerTransformer\n",
    "from blume import table"
   ]
  },
  {
   "cell_type": "code",
   "execution_count": 2,
   "metadata": {},
   "outputs": [],
   "source": [
    "############################## exclusivo debug: ####################################################\n",
    "idxName = ['id']\n",
    "#catFList = ['f_27']\n",
    "catFList = ['f_27',\"f_07\",\"f_08\",\"f_09\",\"f_10\",\"f_11\",\"f_12\"]\n",
    "#discFList = [\"f_07\",\"f_08\",\"f_09\",\"f_10\",\"f_11\",\"f_12\",\"f_13\",\"f_14\",\"f_15\",\"f_16\",\"f_17\",\"f_18\",\"f_29\",\"f_30\"]\n",
    "discFList = [\"f_13\",\"f_14\",\"f_15\",\"f_16\",\"f_17\",\"f_18\",\"f_29\",\"f_30\"]\n",
    "tgtFList = [\"target\"]\n",
    "fileDir = \"D:\\\\Projetos\\\\competicoes\\\\featureOps\\\\data\\\\tabular-playground-series-may-2022\\\\train.csv\"\n",
    "featureDF = read_csv(fileDir)\n",
    "featureDF.set_index(idxName[0],inplace=True,drop=False)\n",
    "numFList = list(set(featureDF.columns) - set(tgtFList) - set(discFList) - set(catFList))\n",
    "numDF = featureDF.sample(n=50000)\n",
    "dataset = melt(featureDF, id_vars = idxName + catFList, value_vars=numFList+discFList,value_name='numfeatures')\n",
    "dataset = dataset[dataset['variable']=='f_06']\n",
    "######################################################################################################"
   ]
  },
  {
   "cell_type": "code",
   "execution_count": 3,
   "metadata": {},
   "outputs": [
    {
     "data": {
      "image/png": "[encoded data removed]",
      "text/plain": [
       "<Figure size 288x288 with 1 Axes>"
      ]
     },
     "metadata": {
      "needs_background": "light"
     },
     "output_type": "display_data"
    }
   ],
   "source": [
    "############# LOCAL FLOW : ############################################################\n",
    "graph_type = 'table'\n",
    "transform_flag = False\n",
    "#######################################################################################\n",
    "\n",
    "############## GLOBAL #################################################################\n",
    "sns.set(rc={\"figure.dpi\":300, 'savefig.dpi':300})\n",
    "samplesize = read_csv(\"D:\\\\Projetos\\\\competicoes\\\\featureOps\\\\data\\\\dashboards\\\\biExports\\\\samplesize.csv\")\n",
    "samplesize = list(samplesize['samplesize'])[0]\n",
    "\n",
    "if samplesize > len(dataset):\n",
    "    samplesize = len(dataset)-1\n",
    "\n",
    "if graph_type != 'table':\n",
    "    dataset = dataset.sample(n=int(samplesize))\n",
    "\n",
    "featList = list(dataset['variable'].drop_duplicates())[0]\n",
    "dataset = dataset[['numfeatures']]\n",
    "#######################################################################################\n",
    "\n",
    "\n",
    "def graph_transf():\n",
    "\n",
    "    global dataset\n",
    "\n",
    "    transformers = read_csv(\"D:\\\\Projetos\\\\competicoes\\\\featureOps\\\\data\\\\dashboards\\\\biExports\\\\transformers.csv\")\n",
    "    transformers = list(transformers['transformers'])[0]\n",
    "    transDic = {'StandardScaler':StandardScaler(),'MaxAbsScaler':MaxAbsScaler(),'PowerTransformer':PowerTransformer()}\n",
    "    scaler = transDic[transformers]\n",
    "    scaler.fit(dataset)\n",
    "    dataset = DataFrame(scaler.transform(dataset),columns={'numfeatures'})\n",
    "    \n",
    "    return None\n",
    "\n",
    "def graph_hist():\n",
    "\n",
    "    global dataset\n",
    "\n",
    "    binsLen = int(round(len(dataset) ** (1/2),0))\n",
    "    graph = sns.histplot(data=dataset, x=\"numfeatures\",bins=binsLen,kde=True)\n",
    "    graph.set(title=f'{featList} Frequency Distribuiton')\n",
    "    graph.set_xlabel(\"Bins\")\n",
    "    graph.set_ylabel(\"Frequency\")\n",
    "    #plt.tight_layout()\n",
    "    show()\n",
    "\n",
    "def graph_table():\n",
    "\n",
    "    global dataset\n",
    "    #nao funciona para 2 features selecionadas ao mesmo tempo\n",
    "    statsx = dataset.describe().T\n",
    "\n",
    "    dataset = dataset[['numfeatures']]\n",
    "    dataset.rename(columns={'numfeatures':featList},inplace=True)\n",
    "\n",
    "    ###extras:\n",
    "    statsx['sum'] = dataset[featList].sum()\n",
    "    statsx['median'] = dataset[featList].median()\n",
    "    mode = dataset[featList].mode().values\n",
    "    statsx['mode'] = np.nan if len(mode) > 1 else mode[0]\n",
    "    statsx['var'] = dataset[featList].var()\n",
    "    statsx['sem'] = dataset[featList].sem()\n",
    "    statsx = statsx.T\n",
    "    statsx[featList] = round(statsx['numfeatures'],2)\n",
    "    statsx.drop(columns=['numfeatures'],inplace=True)\n",
    "\n",
    "    fig, ax = subplots()\n",
    "    fig.patch.set_visible(False)\n",
    "    ax.axis('off')\n",
    "    ax.axis('tight')\n",
    "    ax.figure.set_size_inches(4, 4)\n",
    "\n",
    "    #cores:\n",
    "    colors_cell = [['#FAFAFA']]*13\n",
    "    colors_rows = ['#FAFAFA']*13\n",
    "    colors_cols = ['#FAFAFA']\n",
    "\n",
    "    #inferno:\n",
    "    tablex = table.table(ax,cellText=statsx.values, colLabels=statsx.columns,rowLabels=statsx.index,cellLoc='center',loc='center',colWidths = [0.25],cellColours=colors_cell,rowColours=colors_rows,colColours=colors_cols)\n",
    "    tablex.auto_set_font_size(False)\n",
    "    tablex.set_fontsize(18)\n",
    "    tablex.scale(1.3,1.3) #(COLUMN,ROW)\n",
    "    tight_layout(pad=0, w_pad=0, h_pad=0)\n",
    "\n",
    "    show()\n",
    "\n",
    "def graph_qqplot():\n",
    "\n",
    "    global dataset\n",
    "    graph = stats.probplot(dataset['numfeatures'], plot=sns.mpl.pyplot)\n",
    "    show()\n",
    "\n",
    "def graph_boxplot():\n",
    "\n",
    "    global dataset\n",
    "    graph = sns.boxplot(data=dataset,orient='vertical')\n",
    "    show()\n",
    "\n",
    "\n",
    "############## GLOBAL FLOW : ##########################################################\n",
    "possibleGraphs = {'histogram':graph_hist,'qqplot':graph_qqplot,'boxplot':graph_boxplot,'table':graph_table}\n",
    "#######################################################################################\n",
    "\n",
    "graph_transf() if transform_flag else None\n",
    "possibleGraphs[graph_type]()"
   ]
  },
  {
   "cell_type": "code",
   "execution_count": null,
   "metadata": {},
   "outputs": [],
   "source": []
  }
 ],
 "metadata": {
  "kernelspec": {
   "display_name": "Python 3.9.7 ('tabularKaggle')",
   "language": "python",
   "name": "python3"
  },
  "language_info": {
   "codemirror_mode": {
    "name": "ipython",
    "version": 3
   },
   "file_extension": ".py",
   "mimetype": "text/x-python",
   "name": "python",
   "nbconvert_exporter": "python",
   "pygments_lexer": "ipython3",
   "version": "3.9.7"
  },
  "orig_nbformat": 4,
  "vscode": {
   "interpreter": {
    "hash": "0be717e0152680a12997de4697a4760ae028ad6b9681ef9e1ae20e2c41e2e849"
   }
  }
 },
 "nbformat": 4,
 "nbformat_minor": 2
}
